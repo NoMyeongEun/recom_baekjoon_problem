{
 "cells": [
  {
   "cell_type": "code",
   "execution_count": 17,
   "id": "22c2661a",
   "metadata": {},
   "outputs": [],
   "source": [
    "import json\n",
    "from time import sleep\n",
    "import requests\n",
    "import pandas as pd"
   ]
  },
  {
   "cell_type": "code",
   "execution_count": 56,
   "id": "8da378c6",
   "metadata": {},
   "outputs": [],
   "source": [
    "def get_user_by_rank(page):\n",
    "    \"\"\"\n",
    "     해당 페이지의 유저 정보를 받아옵니다.\n",
    "     유저는 랭크순으로 정렬되어 있습니다.\n",
    "    \"\"\"\n",
    "    try:\n",
    "        allData = []\n",
    "        url = f\"https://solved.ac/api/v3/ranking/tier?page={page}\"\n",
    "        r_profile = requests.get(url)\n",
    "        if r_profile.status_code == requests.codes.too_many_requests: \n",
    "                return False\n",
    "        profiles = json.loads(r_profile.content.decode('utf-8'))[\"items\"]\n",
    "        for profile in profiles:\n",
    "            allData.append(profile)\n",
    "        return allData\n",
    "    \n",
    "    except Exception as e:    \n",
    "        print(f'{page}에서 예외가 발생했습니다.', e)\n",
    "\n",
    "def run_user_by_rank(start_page,end_page):\n",
    "    \"\"\"\n",
    "     start_page부터 end_page까지의 사용자 정보를 받아옵니다.\n",
    "     만약 too many request 에러가 발생하면 500초 동안 동작을 일시정지한 후 재개합니다.\n",
    "    \"\"\"\n",
    "    df = pd .DataFrame()\n",
    "    page = start_page\n",
    "    while page <= end_page:\n",
    "        allData = get_user_by_rank(page)\n",
    "        if allData == False: \n",
    "            print(f\"{page}번째 처리 중 Error 429 발생\")\n",
    "            sleep(500)\n",
    "        else:\n",
    "            for data in allData:\n",
    "                df = df.append(data,ignore_index = True)\n",
    "            if page % 50 == 0:\n",
    "                print(f\"{page} Completed\")\n",
    "            page += 1\n",
    "    df.to_csv(\"result/user_data.csv\")"
   ]
  },
  {
   "cell_type": "code",
   "execution_count": 99,
   "id": "94cc4215",
   "metadata": {},
   "outputs": [
    {
     "name": "stdout",
     "output_type": "stream",
     "text": [
      "총 페이지 수는  2424 입니다\n"
     ]
    }
   ],
   "source": [
    "url = f\"https://solved.ac/api/v3/ranking/tier?page={page}\"\n",
    "r_profile = requests.get(url)        \n",
    "count = json.loads(r_profile.content.decode('utf-8'))[\"count\"]\n",
    "print(\"총 페이지 수는 \",count//50 + 1,\"입니다\")"
   ]
  },
  {
   "cell_type": "code",
   "execution_count": 102,
   "id": "1159b6c2",
   "metadata": {},
   "outputs": [],
   "source": [
    "run_user_by_rank(1,3)"
   ]
  }
 ],
 "metadata": {
  "kernelspec": {
   "display_name": "Python 3 (ipykernel)",
   "language": "python",
   "name": "python3"
  },
  "language_info": {
   "codemirror_mode": {
    "name": "ipython",
    "version": 3
   },
   "file_extension": ".py",
   "mimetype": "text/x-python",
   "name": "python",
   "nbconvert_exporter": "python",
   "pygments_lexer": "ipython3",
   "version": "3.9.7"
  }
 },
 "nbformat": 4,
 "nbformat_minor": 5
}
