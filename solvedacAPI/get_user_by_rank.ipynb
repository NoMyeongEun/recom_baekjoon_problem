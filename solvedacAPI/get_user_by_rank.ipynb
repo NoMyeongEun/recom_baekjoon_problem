{
 "cells": [
  {
   "cell_type": "code",
   "execution_count": 1,
   "id": "22c2661a",
   "metadata": {},
   "outputs": [],
   "source": [
    "import json\n",
    "from time import sleep\n",
    "import requests\n",
    "import pandas as pd"
   ]
  },
  {
   "cell_type": "code",
   "execution_count": 2,
   "id": "8da378c6",
   "metadata": {},
   "outputs": [],
   "source": [
    "def get_user_by_rank(page):\n",
    "    \"\"\"\n",
    "     해당 페이지의 유저 정보를 받아옵니다.\n",
    "     유저는 랭크순으로 정렬되어 있습니다.\n",
    "    \"\"\"\n",
    "    try:\n",
    "        allData = []\n",
    "        url = f\"https://solved.ac/api/v3/ranking/tier?page={page}\"\n",
    "        r_profile = requests.get(url)\n",
    "        if r_profile.status_code == requests.codes.too_many_requests: \n",
    "                return False\n",
    "        profiles = json.loads(r_profile.content.decode('utf-8'))[\"items\"]\n",
    "        for profile in profiles:\n",
    "            allData._append(profile)\n",
    "        return allData\n",
    "    \n",
    "    except Exception as e:    \n",
    "        print(f'{page}에서 예외가 발생했습니다.', e)\n",
    "\n",
    "def run_user_by_rank(start_page,end_page):\n",
    "    \"\"\"\n",
    "     start_page부터 end_page까지의 사용자 정보를 받아옵니다.\n",
    "     만약 too many request 에러가 발생하면 500초 동안 동작을 일시정지한 후 재개합니다.\n",
    "    \"\"\"\n",
    "    df = pd .DataFrame()\n",
    "    page = start_page\n",
    "    while page <= end_page:\n",
    "        allData = get_user_by_rank(page)\n",
    "        if allData == False: \n",
    "            print(f\"{page}번째 처리 중 Error 429 발생\")\n",
    "            sleep(500)\n",
    "        else:\n",
    "            for data in allData:\n",
    "                df = df._append(data,ignore_index = True)\n",
    "            if page % 50 == 0:\n",
    "                print(f\"{page} Completed\")\n",
    "            page += 1\n",
    "    df.to_csv(\"result/user_data.csv\")"
   ]
  },
  {
   "cell_type": "code",
   "execution_count": 4,
   "id": "94cc4215",
   "metadata": {},
   "outputs": [
    {
     "name": "stdout",
     "output_type": "stream",
     "text": [
      "총 페이지 수는  2424 입니다\n"
     ]
    }
   ],
   "source": [
    "url = f\"https://solved.ac/api/v3/ranking/tier?page=1\"\n",
    "r_profile = requests.get(url)        \n",
    "count = json.loads(r_profile.content.decode('utf-8'))[\"count\"]\n",
    "print(\"총 페이지 수는 \",count//50 + 1,\"입니다\")"
   ]
  },
  {
   "cell_type": "code",
   "execution_count": 6,
   "id": "1159b6c2",
   "metadata": {},
   "outputs": [
    {
     "name": "stdout",
     "output_type": "stream",
     "text": [
      "50 Completed\n",
      "100 Completed\n",
      "150 Completed\n",
      "200 Completed\n",
      "250 Completed\n",
      "300 Completed\n",
      "350 Completed\n",
      "400 Completed\n",
      "450 Completed\n",
      "500 Completed\n",
      "550 Completed\n",
      "600 Completed\n",
      "650 Completed\n",
      "700 Completed\n",
      "750 Completed\n",
      "800 Completed\n",
      "850 Completed\n",
      "900 Completed\n",
      "950 Completed\n",
      "1000 Completed\n",
      "1050 Completed\n",
      "1100 Completed\n",
      "1139번째 처리 중 Error 429 발생\n",
      "1150 Completed\n",
      "1200 Completed\n",
      "1250 Completed\n",
      "1300 Completed\n",
      "1350 Completed\n",
      "1400 Completed\n",
      "1450 Completed\n",
      "1500 Completed\n",
      "1550 Completed\n",
      "1600 Completed\n",
      "1650 Completed\n",
      "1700 Completed\n",
      "1750 Completed\n",
      "1800 Completed\n",
      "1850 Completed\n",
      "1900 Completed\n",
      "1950 Completed\n",
      "2000 Completed\n",
      "2050 Completed\n",
      "2100 Completed\n",
      "2150 Completed\n",
      "2200 Completed\n",
      "2250 Completed\n",
      "2300 Completed\n",
      "2350 Completed\n",
      "2400 Completed\n"
     ]
    }
   ],
   "source": [
    "run_user_by_rank(1,2424)"
   ]
  },
  {
   "cell_type": "code",
   "execution_count": null,
   "id": "dd7e94bb",
   "metadata": {},
   "outputs": [],
   "source": []
  }
 ],
 "metadata": {
  "kernelspec": {
   "display_name": "Python 3 (ipykernel)",
   "language": "python",
   "name": "python3"
  },
  "language_info": {
   "codemirror_mode": {
    "name": "ipython",
    "version": 3
   },
   "file_extension": ".py",
   "mimetype": "text/x-python",
   "name": "python",
   "nbconvert_exporter": "python",
   "pygments_lexer": "ipython3",
   "version": "3.9.7"
  }
 },
 "nbformat": 4,
 "nbformat_minor": 5
}
